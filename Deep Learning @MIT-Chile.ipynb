{
 "cells": [
  {
   "cell_type": "code",
   "execution_count": 1,
   "id": "7c842e1c",
   "metadata": {},
   "outputs": [
    {
     "data": {
      "text/plain": [
       "<torch._C.Generator at 0x10d8ce750>"
      ]
     },
     "execution_count": 1,
     "metadata": {},
     "output_type": "execute_result"
    }
   ],
   "source": [
    "import matplotlib.pyplot as plt\n",
    "from PIL import Image\n",
    "import numpy as np\n",
    "\n",
    "import torch\n",
    "import torchvision\n",
    "from torch.utils import data\n",
    "from torchvision import datasets, transforms\n",
    "from torch.utils.data import DataLoader, TensorDataset\n",
    "\n",
    "random_seed = 1\n",
    "torch.manual_seed(random_seed)"
   ]
  },
  {
   "cell_type": "code",
   "execution_count": 2,
   "id": "4abdda50",
   "metadata": {},
   "outputs": [],
   "source": [
    "#calling the dataloaders (iterators) to get the data.\n",
    "\n",
    "def get_labeled_samples(X, y, n_samples):\n",
    "    \"\"\"Returns the labeled samples based on the number of samples defined by the arguments.\n",
    "\n",
    "    Parameters\n",
    "    ----------\n",
    "    X : array_like, shape (n_samples, width, height, channels)\n",
    "        correspond to the images of the dataset.\n",
    "    y : array_like, shape (n_samples, )\n",
    "        correspond to the labels for the images.\n",
    "\n",
    "    Returns\n",
    "    ----------\n",
    "    X_sup : array_like, shape (n_samples, width, height, channels)\n",
    "           correspond to the images that will be used as the supervised set.\n",
    "    y_sup : array_like, shape (n_samples, )\n",
    "            correspond to the labels for the images that will be used as the supervised set.\n",
    "    n_samples (int): Nuber of samples per class to be labeled.\n",
    "    \"\"\"\n",
    "\n",
    "    np.random.seed(0)\n",
    "\n",
    "    classes = np.unique(y)\n",
    "    indxs = [np.where(y == class_) for class_ in classes]\n",
    "\n",
    "    ix = []\n",
    "    for indx in indxs:\n",
    "        ix.extend(np.random.choice(indx[0], n_samples, replace = False))\n",
    "\n",
    "    np.random.shuffle(ix)\n",
    "    X_sup = X[ix]\n",
    "    y_sup = y[ix]\n",
    "\n",
    "    return X_sup, y_sup, ix\n",
    "\n",
    "class DigitDataset(data.Dataset):\n",
    "    \"\"\"This class is needed to process the batches for the dataloader.\"\"\"\n",
    "    def __init__(self, data, target):\n",
    "        self.data = data\n",
    "        self.target = target\n",
    "        self.transform = transforms.Compose([transforms.Resize(32),\n",
    "                                             transforms.ToTensor()])\n",
    "\n",
    "    def __getitem__(self, index):\n",
    "        x = self.data[index]\n",
    "        y = self.target[index]\n",
    "        x = Image.fromarray(x)\n",
    "        x = self.transform(x)\n",
    "        return x, y\n",
    "\n",
    "    def __len__(self):\n",
    "        return len(self.data)\n",
    "\n",
    "def get_mnist(data_dir='./data/', batch_size=32):\n",
    "    train = torchvision.datasets.MNIST(root=data_dir, train=True, download=True)\n",
    "    test = torchvision.datasets.MNIST(root=data_dir, train=False, download=True)\n",
    "\n",
    "    x_train = train.data.numpy()\n",
    "    y_train = train.targets\n",
    "    \n",
    "    x_test = test.data.numpy()\n",
    "    y_test = test.targets\n",
    "    \n",
    "    ## We need to repeat and concatenate the black-and-white images in order to match the \n",
    "    ## 3-channel RGB images dimension.\n",
    "    \n",
    "    x_train = np.repeat(x_train.reshape(-1, 28, 28, 1), 3, 3)\n",
    "    x_test = np.repeat(x_test.reshape(-1, 28, 28, 1), 3, 3)\n",
    "        \n",
    "    x_val, y_val, ixs = get_labeled_samples(x_train, y_train, 1000)\n",
    "    dataloader_val = DataLoader(DigitDataset(x_val, y_val), batch_size=batch_size, \n",
    "                                shuffle=False)\n",
    "\n",
    "    x_train, y_train = np.delete(x_train, ixs, axis=0), np.delete(y_train, ixs, axis=0)\n",
    "    dataloader_train = DataLoader(DigitDataset(x_train, y_train), batch_size=batch_size, \n",
    "                                shuffle=True, drop_last=True)\n",
    "\n",
    "    dataloader_test = DataLoader(DigitDataset(x_test, y_test), batch_size=batch_size*2, \n",
    "                                shuffle=False)\n",
    "    return dataloader_train, dataloader_val, dataloader_test"
   ]
  },
  {
   "cell_type": "code",
   "execution_count": 3,
   "id": "be9a9f16",
   "metadata": {},
   "outputs": [],
   "source": [
    "train_loader, val_loader, test_loader = get_mnist()\n",
    "images, labels = iter(train_loader).next()"
   ]
  },
  {
   "cell_type": "code",
   "execution_count": 4,
   "id": "05d592ae",
   "metadata": {},
   "outputs": [
    {
     "data": {
      "text/plain": [
       "<Figure size 432x288 with 0 Axes>"
      ]
     },
     "metadata": {},
     "output_type": "display_data"
    },
    {
     "data": {
      "image/png": "[encoded data removed]",
      "text/plain": [
       "<Figure size 576x576 with 16 Axes>"
      ]
     },
     "metadata": {},
     "output_type": "display_data"
    }
   ],
   "source": [
    "# Plotting some images\n",
    "\n",
    "N_plots = 4\n",
    "\n",
    "plt.clf()\n",
    "fig, axes = plt.subplots(N_plots, N_plots, figsize=(8, 8),\n",
    "                        subplot_kw={'xticks': [], 'yticks': []})\n",
    "\n",
    "for i in range(N_plots*N_plots):\n",
    "    axes.flat[i].imshow(images[i][0], interpolation = \"nearest\", cmap='gray')\n",
    "\n",
    "plt.show()"
   ]
  },
  {
   "cell_type": "markdown",
   "id": "00227440",
   "metadata": {},
   "source": [
    "### Neural Network Architecture"
   ]
  },
  {
   "cell_type": "code",
   "execution_count": 5,
   "id": "3ead097e",
   "metadata": {},
   "outputs": [],
   "source": [
    "import torch.nn as nn\n",
    "import torch.nn.functional as F\n",
    "import torch.optim as optim\n",
    "\n",
    "\n",
    "class Neural_Network(nn.Module):\n",
    "    def __init__(self):\n",
    "        super(Neural_Network, self).__init__()\n",
    "        self.conv1 = nn.Conv2d(3, 10, kernel_size=5)\n",
    "        self.conv2 = nn.Conv2d(10, 20, kernel_size=5)\n",
    "        self.fc1 = nn.Linear(500, 50)\n",
    "        self.fc2 = nn.Linear(50, 10)\n",
    "\n",
    "    def forward(self, x):\n",
    "        x = F.relu(F.max_pool2d(self.conv1(x), 2))\n",
    "        x = F.relu(F.max_pool2d(self.conv2(x), 2))\n",
    "        x = x.view(-1, 500)\n",
    "        x = F.relu(self.fc1(x))\n",
    "        x = F.dropout(x, p=0.5, training=self.training)\n",
    "        x = self.fc2(x)\n",
    "        return F.softmax(x, -1)"
   ]
  },
  {
   "cell_type": "code",
   "execution_count": 6,
   "id": "490a62bf",
   "metadata": {},
   "outputs": [],
   "source": [
    "# Some Utilities :D\n",
    "        \n",
    "class AverageMeter(object):\n",
    "    \"\"\"Computes and stores the average and current value\"\"\"\n",
    "    def __init__(self):\n",
    "        self.reset()\n",
    "\n",
    "    def reset(self):\n",
    "        self.val = 0\n",
    "        self.avg = 0\n",
    "        self.sum = 0\n",
    "        self.count = 0\n",
    "\n",
    "    def update(self, val, n=1):\n",
    "        self.val = val\n",
    "        self.sum += val * n\n",
    "        self.count += n\n",
    "        self.avg = self.sum / self.count\n",
    "        \n",
    "class EarlyStopping:\n",
    "    \"\"\"Early stopping as the convergence criterion.\n",
    "        Args:\n",
    "            args (string): hyperparameters for the training.\n",
    "            patience (int): the model will stop if it not do improve in a patience number of epochs.\n",
    "        Returns:\n",
    "            stop (bool): if the model must stop.\n",
    "            if_best (bool): if the model performance is better than the previous models.\n",
    "    \"\"\"\n",
    "    def __init__(self, patience=10):\n",
    "        self.best_metric = 0.0\n",
    "        self.counter = 0\n",
    "        self.patience = patience\n",
    "\n",
    "    def count(self, model, metric):\n",
    "        is_best = bool(metric > self.best_metric)\n",
    "        self.best_metric = max(metric, self.best_metric)\n",
    "        if is_best:\n",
    "            self.counter = 0\n",
    "            torch.save(model.state_dict(), './trained_parameters_mnist.pth')\n",
    "        else:\n",
    "            self.counter += 1\n",
    "        if self.counter > self.patience:\n",
    "            stop = True\n",
    "        else:\n",
    "            stop = False\n",
    "        return stop"
   ]
  },
  {
   "cell_type": "code",
   "execution_count": 7,
   "id": "60bc20fa",
   "metadata": {},
   "outputs": [],
   "source": [
    "from sklearn.metrics import accuracy_score\n",
    "\n",
    "\n",
    "def evaluate(model, dataloader):\n",
    "    \"\"\"Evalute the unsupervised model.\"\"\"\n",
    "    model.eval()\n",
    "    loss_metric = AverageMeter()\n",
    "    acc_metric = AverageMeter()\n",
    "    with torch.no_grad():\n",
    "        for x, y in dataloader:\n",
    "            x = x.float()\n",
    "            y = y.long()\n",
    "\n",
    "            out = model(x)\n",
    "\n",
    "            loss = F.cross_entropy(out, y)\n",
    "            y_pred = np.argmax(out.detach().numpy(), axis=1)\n",
    "            \n",
    "            loss_metric.update(loss.item(), x.size(0))\n",
    "            acc_metric.update(accuracy_score(y, y_pred), x.size(0))\n",
    "\n",
    "    print('Test loss: {:.2f}, Accuracy: {:.2f}'.format(loss_metric.avg, acc_metric.avg))\n",
    "    return loss_metric.avg, acc_metric.avg\n",
    "\n",
    "\n",
    "\n",
    "def train(n_epochs, dataloader_train, dataloader_val):\n",
    "    \n",
    "    es = EarlyStopping()\n",
    "    cumulated_loss, cumulated_acc = [], []\n",
    "    cumulated_loss_val, cumulated_acc_val = [], []\n",
    "    \n",
    "    for epoch in range(n_epochs):\n",
    "        loss_metric = AverageMeter()\n",
    "        acc_metric = AverageMeter()\n",
    "        print('Epoch: {}/{}'.format(epoch, n_epochs))\n",
    "        for x, y in dataloader_train:\n",
    "            model.train()\n",
    "            x = x.float()\n",
    "            y = y.long()\n",
    "            \n",
    "            out = model(x)\n",
    "\n",
    "            loss = F.cross_entropy(out, y)\n",
    "            #Computing gradients\n",
    "            loss.backward()\n",
    "            optimizer.step()\n",
    "            \n",
    "            y_pred = np.argmax(out.detach().numpy(), axis=1)\n",
    "            \n",
    "            loss_metric.update(loss.item(), x.size(0))\n",
    "            acc_metric.update(accuracy_score(y, y_pred), x.size(0))\n",
    "            #Zero grading for next iteration.\n",
    "            optimizer.zero_grad()\n",
    "\n",
    "        print('Training loss: {:.2f}, Accuracy: {:.2f}'.format(\n",
    "                                                    loss_metric.avg, acc_metric.avg))\n",
    "        cumulated_loss.append(loss_metric.avg)\n",
    "        cumulated_acc.append(acc_metric.avg)\n",
    "        \n",
    "        loss_val, acc_val = evaluate(model, dataloader_val)\n",
    "        stop = es.count(model, acc_val)\n",
    "        cumulated_loss_val.append(loss_val)\n",
    "        cumulated_acc_val.append(acc_val)\n",
    "        \n",
    "    return (cumulated_loss, cumulated_loss_val), (cumulated_acc, cumulated_acc_val)"
   ]
  },
  {
   "cell_type": "code",
   "execution_count": 8,
   "id": "4e0a94d1",
   "metadata": {},
   "outputs": [],
   "source": [
    "#Hyperparameters\n",
    "\n",
    "learning_rate = 0.0001\n",
    "n_epochs = 20\n",
    "\n",
    "model = Neural_Network()\n",
    "optimizer = optim.Adam(model.parameters(), lr=learning_rate)"
   ]
  },
  {
   "cell_type": "code",
   "execution_count": 9,
   "id": "8e56e44a",
   "metadata": {},
   "outputs": [
    {
     "name": "stdout",
     "output_type": "stream",
     "text": [
      "Epoch: 0/20\n",
      "Training loss: 1.89, Accuracy: 0.60\n",
      "Test loss: 1.62, Accuracy: 0.86\n",
      "Epoch: 1/20\n",
      "Training loss: 1.68, Accuracy: 0.80\n",
      "Test loss: 1.56, Accuracy: 0.91\n",
      "Epoch: 2/20\n",
      "Training loss: 1.63, Accuracy: 0.85\n",
      "Test loss: 1.54, Accuracy: 0.93\n",
      "Epoch: 3/20\n",
      "Training loss: 1.60, Accuracy: 0.87\n",
      "Test loss: 1.52, Accuracy: 0.94\n",
      "Epoch: 4/20\n",
      "Training loss: 1.58, Accuracy: 0.89\n",
      "Test loss: 1.52, Accuracy: 0.95\n",
      "Epoch: 5/20\n",
      "Training loss: 1.57, Accuracy: 0.90\n",
      "Test loss: 1.51, Accuracy: 0.95\n",
      "Epoch: 6/20\n",
      "Training loss: 1.56, Accuracy: 0.91\n",
      "Test loss: 1.51, Accuracy: 0.96\n",
      "Epoch: 7/20\n",
      "Training loss: 1.55, Accuracy: 0.91\n",
      "Test loss: 1.50, Accuracy: 0.96\n",
      "Epoch: 8/20\n",
      "Training loss: 1.55, Accuracy: 0.92\n",
      "Test loss: 1.50, Accuracy: 0.96\n",
      "Epoch: 9/20\n",
      "Training loss: 1.54, Accuracy: 0.92\n",
      "Test loss: 1.50, Accuracy: 0.96\n",
      "Epoch: 10/20\n",
      "Training loss: 1.54, Accuracy: 0.92\n",
      "Test loss: 1.50, Accuracy: 0.96\n",
      "Epoch: 11/20\n",
      "Training loss: 1.54, Accuracy: 0.93\n",
      "Test loss: 1.50, Accuracy: 0.97\n",
      "Epoch: 12/20\n",
      "Training loss: 1.53, Accuracy: 0.93\n",
      "Test loss: 1.49, Accuracy: 0.97\n",
      "Epoch: 13/20\n",
      "Training loss: 1.53, Accuracy: 0.93\n",
      "Test loss: 1.49, Accuracy: 0.97\n",
      "Epoch: 14/20\n",
      "Training loss: 1.53, Accuracy: 0.93\n",
      "Test loss: 1.49, Accuracy: 0.97\n",
      "Epoch: 15/20\n",
      "Training loss: 1.53, Accuracy: 0.94\n",
      "Test loss: 1.49, Accuracy: 0.97\n",
      "Epoch: 16/20\n",
      "Training loss: 1.53, Accuracy: 0.94\n",
      "Test loss: 1.49, Accuracy: 0.97\n",
      "Epoch: 17/20\n",
      "Training loss: 1.53, Accuracy: 0.94\n",
      "Test loss: 1.49, Accuracy: 0.97\n",
      "Epoch: 18/20\n",
      "Training loss: 1.52, Accuracy: 0.94\n",
      "Test loss: 1.49, Accuracy: 0.97\n",
      "Epoch: 19/20\n",
      "Training loss: 1.52, Accuracy: 0.94\n",
      "Test loss: 1.49, Accuracy: 0.97\n"
     ]
    }
   ],
   "source": [
    "loss, acc = train(n_epochs, train_loader, val_loader)"
   ]
  },
  {
   "cell_type": "code",
   "execution_count": 10,
   "id": "eb08c0ac",
   "metadata": {},
   "outputs": [
    {
     "name": "stdout",
     "output_type": "stream",
     "text": [
      "Test loss: 1.49, Accuracy: 0.97\n"
     ]
    }
   ],
   "source": [
    "loss_test, acc_test = evaluate(model, test_loader)"
   ]
  },
  {
   "cell_type": "code",
   "execution_count": 11,
   "id": "e42f25e3",
   "metadata": {},
   "outputs": [],
   "source": [
    "def plot_learning_curves(metric, metric_test, metric_name):\n",
    "    plt.plot(np.arange(len(metric[0])), metric[0], c='k', label='train')\n",
    "    plt.plot(np.arange(len(metric[1])), metric[1], c='b', label='val')\n",
    "    plt.plot(n_epochs-1, metric_test, marker=\"*\", c='r', label='test', markersize=15)\n",
    "    plt.title('Learning curve {}'.format(metric_name), fontsize=20)\n",
    "    plt.xlabel('Epoch', fontsize=15)\n",
    "    plt.ylabel(metric_name, fontsize=15)\n",
    "    plt.grid(True)\n",
    "    plt.legend(loc='best', fontsize=15)\n",
    "    plt.show()"
   ]
  },
  {
   "cell_type": "code",
   "execution_count": 12,
   "id": "8a6892d9",
   "metadata": {},
   "outputs": [
    {
     "data": {
      "image/png": "[encoded data removed]",
      "text/plain": [
       "<Figure size 432x288 with 1 Axes>"
      ]
     },
     "metadata": {},
     "output_type": "display_data"
    },
    {
     "data": {
      "image/png": "[encoded data removed]",
      "text/plain": [
       "<Figure size 432x288 with 1 Axes>"
      ]
     },
     "metadata": {},
     "output_type": "display_data"
    }
   ],
   "source": [
    "plot_learning_curves(loss, loss_test, 'Loss')\n",
    "plot_learning_curves(acc, acc_test, 'Accuracy')"
   ]
  },
  {
   "cell_type": "code",
   "execution_count": null,
   "id": "4dc76792",
   "metadata": {},
   "outputs": [],
   "source": []
  }
 ],
 "metadata": {
  "kernelspec": {
   "display_name": "Python 3",
   "language": "python",
   "name": "python3"
  },
  "language_info": {
   "codemirror_mode": {
    "name": "ipython",
    "version": 3
   },
   "file_extension": ".py",
   "mimetype": "text/x-python",
   "name": "python",
   "nbconvert_exporter": "python",
   "pygments_lexer": "ipython3",
   "version": "3.6.7"
  }
 },
 "nbformat": 4,
 "nbformat_minor": 5
}
